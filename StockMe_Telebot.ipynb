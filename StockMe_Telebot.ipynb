{
 "cells": [
  {
   "cell_type": "code",
   "execution_count": null,
   "metadata": {},
   "outputs": [],
   "source": [
    "## the following is learned from/taken from/inspired by:\n",
    "## https://www.youtube.com/watch?v=jhFsFZXZbu4&feature=youtu.be&fbclid=IwAR1j20K5V4K1v1iAtNQCMaogBdCjOpVVktaj7bXELiQR5HnKfc_wpk6vJUk\n",
    "\n",
    "import telebot\n",
    "\n",
    "myBotToken = \"849789059:AAHGJ_-j5DYZtZl5ZdRkHlHFzondHxAP9QI\"\n",
    "myBot = telebot.TeleBot(token = myBotToken)\n",
    "\n",
    "mainDict = {\"Bob\":52.5,\"Lisa\":101.5,\"Carl\":10.4} # assume this to be the main dict of everything\n",
    "\n",
    "tickerList = mainDict.keys() # make a list here of the tickers in the json-derived line\n",
    "tickersString = \"\\n\".join(tickerList) # turn into a string to send\n",
    "\n",
    "@myBot.message_handler(commands = ['start'])\n",
    "def welcome(words):\n",
    "    myBot.reply_to(words, \"Welcome to StockMe Bot! To get you started, here are some functions you can type in! \\nType in: '/tickers' to get a full list of the tickers that are available \\nType in: '/info' to get information about a ticker \\nType in: '/help' to get a list of all functions\")\n",
    "\n",
    "@myBot.message_handler(commands = ['help'])\n",
    "def helpDesk(words):\n",
    "    myBot.reply_to(words, \"No help is coming.\")\n",
    "\n",
    "@myBot.message_handler(commands = ['tickers'])\n",
    "def tickerList(words):\n",
    "    myBot.reply_to(words, tickersString) # display each of the element of the list, use \\n accordingly\n",
    "\n",
    "## the following is taken from:\n",
    "## https://stackoverflow.com/questions/44054143/save-user-input-after-certain-message-telegram-bot\n",
    "\n",
    "@myBot.message_handler(commands=['info'])\n",
    "def ask(message):\n",
    "    sent = myBot.send_message(message.chat.id, 'Enter stock ticker. Enter /tickers to view ticker list then enter /info to return.')\n",
    "    myBot.register_next_step_handler(sent, stockInfo)\n",
    "def stockInfo(message):\n",
    "    # optional: open('entry.txt', 'w').write(str(message.chat.id) + ' | ' + message.text + '||')\n",
    "    myBot.send_message(message.chat.id,mainDict[message.text])\n",
    "\n",
    "## end of citation\n",
    "## end of citation\n",
    "    \n",
    "while True:\n",
    "    try:\n",
    "        myBot.polling()\n",
    "    except Exception:\n",
    "        time.sleep(10)"
   ]
  },
  {
   "cell_type": "code",
   "execution_count": 8,
   "metadata": {},
   "outputs": [
    {
     "name": "stdout",
     "output_type": "stream",
     "text": [
      "ITM \n",
      "ITM2\n"
     ]
    }
   ],
   "source": [
    "print(\"ITM \\nITM2\")"
   ]
  },
  {
   "cell_type": "code",
   "execution_count": 3,
   "metadata": {},
   "outputs": [
    {
     "data": {
      "text/plain": [
       "'word1word2word3'"
      ]
     },
     "execution_count": 3,
     "metadata": {},
     "output_type": "execute_result"
    }
   ],
   "source": [
    "commandList = [1,2,3]\n",
    "\n",
    "for i in commandList:\n",
    "    def function(i):\n",
    "        return \"word\" + str(i)\n",
    "    \n",
    "function(1) + function(2) + function(3)"
   ]
  },
  {
   "cell_type": "code",
   "execution_count": 15,
   "metadata": {},
   "outputs": [],
   "source": [
    "import telebot\n",
    "from telebot import types\n",
    "\n",
    "bot = telebot.TeleBot(\"849789059:AAHGJ_-j5DYZtZl5ZdRkHlHFzondHxAP9QI\")\n",
    "\n",
    "@bot.message_handler(commands=['start'])\n",
    "def start(message):\n",
    "  sent = bot.send_message(message.chat.id, 'Please describe your problem.')\n",
    "  bot.register_next_step_handler(sent, hello)\n",
    "\n",
    "def hello(message):\n",
    "    open('problem.txt', 'w').write(str(message.chat.id) + ' | ' + message.text + '||')\n",
    "    bot.send_message(str(message.chat.id), 'Thank you!')\n",
    "    bot.send_message(message.chat.id,str(message.chat.id) + ' | ' + message.text)\n",
    "\n",
    "bot.polling()"
   ]
  },
  {
   "cell_type": "code",
   "execution_count": 2,
   "metadata": {},
   "outputs": [],
   "source": [
    "mainDict = {\"Bob\":52.5,\"Lisa\":101.5,\"Carl\":10.4}\n",
    "# assume this to be the main dict of everything\n",
    "\n",
    "tickerList = mainDict.keys()\n",
    "# make a list here of the tickers in the json-derived line"
   ]
  },
  {
   "cell_type": "code",
   "execution_count": 7,
   "metadata": {},
   "outputs": [
    {
     "name": "stdout",
     "output_type": "stream",
     "text": [
      "Bob\n",
      "Lisa\n",
      "Carl\n"
     ]
    }
   ],
   "source": [
    "print(\"\\n\".join(tickerList))"
   ]
  },
  {
   "cell_type": "code",
   "execution_count": null,
   "metadata": {},
   "outputs": [],
   "source": []
  }
 ],
 "metadata": {
  "kernelspec": {
   "display_name": "Python 3",
   "language": "python",
   "name": "python3"
  },
  "language_info": {
   "codemirror_mode": {
    "name": "ipython",
    "version": 3
   },
   "file_extension": ".py",
   "mimetype": "text/x-python",
   "name": "python",
   "nbconvert_exporter": "python",
   "pygments_lexer": "ipython3",
   "version": "3.7.3"
  }
 },
 "nbformat": 4,
 "nbformat_minor": 2
}
