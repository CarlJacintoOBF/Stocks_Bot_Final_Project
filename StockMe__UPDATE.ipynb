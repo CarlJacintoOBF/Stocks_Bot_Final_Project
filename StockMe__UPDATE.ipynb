{
 "cells": [
  {
   "cell_type": "code",
   "execution_count": 1,
   "metadata": {},
   "outputs": [],
   "source": [
    "import gspread\n",
    "from oauth2client.service_account import ServiceAccountCredentials\n",
    "import pprint\n",
    "import schedule \n",
    "import time\n",
    "from datetime import datetime"
   ]
  },
  {
   "cell_type": "code",
   "execution_count": null,
   "metadata": {},
   "outputs": [],
   "source": [
    "#USERNAME SYSTEM\n",
    "'''\n",
    "myBot.message_handler(commands = ['login'])\n",
    "def askusername(message):\n",
    "    sent = myBot.send_message(message.chat.id, 'Enter your username')\n",
    "    myBot.register_next_step_handler(sent, checker)\n",
    "def checker(message):\n",
    "    for i in range(0,len(usernames)):\n",
    "        if usernames[i][\"Username\"] != str(message.text):\n",
    "            pass\n",
    "        elif usernames[i][\"Username\"] == str(message.text):\n",
    "            sent = myBot.send_message(message.chat.id, 'Enter your password')\n",
    "            myBot.register_next_step_handler(sent, passward)\n",
    "            def passward(message):\n",
    "                if usernames[i][\"Password\"]==message.text\n",
    "'''    \n",
    "#END OF USERNAME SYSTEM   "
   ]
  },
  {
   "cell_type": "code",
   "execution_count": null,
   "metadata": {},
   "outputs": [],
   "source": [
    "def updatemo():\n",
    "        scope = ['https://spreadsheets.google.com/feeds','https://www.googleapis.com/auth/drive']\n",
    "        creds = ServiceAccountCredentials.from_json_keyfile_name('My Project 21738-4d265ae50b52.json', scope)\n",
    "        client = gspread.authorize(creds)\n",
    "        sheet = client.open('Stock Market: Dow Jones').sheet1\n",
    "        sheet2 = client.open('Stock Market: Dow Jones').get_worksheet(1)\n",
    "        ListofDict = sheet.get_all_records()\n",
    "        del ListofDict[1::2]\n",
    "        Dictfortickers = {}\n",
    "        for i in range(0,30):\n",
    "        Dictfortickers[ListofDict[i][\"Symbol\"]]= i\n",
    "        \n",
    "schedule.every(15).seconds.do(updatemo)\n",
    "\n",
    "while 1: \n",
    "    schedule.run_pending()\n",
    "    time.sleep(1) "
   ]
  },
  {
   "cell_type": "code",
   "execution_count": 3,
   "metadata": {},
   "outputs": [
    {
     "ename": "KeyboardInterrupt",
     "evalue": "",
     "output_type": "error",
     "traceback": [
      "\u001b[0;31m---------------------------------------------------------------------------\u001b[0m",
      "\u001b[0;31mKeyboardInterrupt\u001b[0m                         Traceback (most recent call last)",
      "\u001b[0;32m<ipython-input-3-da5a0427e424>\u001b[0m in \u001b[0;36m<module>\u001b[0;34m\u001b[0m\n\u001b[1;32m     19\u001b[0m     \u001b[0;32mwhile\u001b[0m \u001b[0;36m1\u001b[0m\u001b[0;34m:\u001b[0m\u001b[0;34m\u001b[0m\u001b[0;34m\u001b[0m\u001b[0m\n\u001b[1;32m     20\u001b[0m         \u001b[0mschedule\u001b[0m\u001b[0;34m.\u001b[0m\u001b[0mrun_pending\u001b[0m\u001b[0;34m(\u001b[0m\u001b[0;34m)\u001b[0m\u001b[0;34m\u001b[0m\u001b[0;34m\u001b[0m\u001b[0m\n\u001b[0;32m---> 21\u001b[0;31m         \u001b[0mtime\u001b[0m\u001b[0;34m.\u001b[0m\u001b[0msleep\u001b[0m\u001b[0;34m(\u001b[0m\u001b[0;36m1\u001b[0m\u001b[0;34m)\u001b[0m\u001b[0;34m\u001b[0m\u001b[0;34m\u001b[0m\u001b[0m\n\u001b[0m\u001b[1;32m     22\u001b[0m \u001b[0;34m\u001b[0m\u001b[0m\n\u001b[1;32m     23\u001b[0m     \u001b[0;32mimport\u001b[0m \u001b[0mtelebot\u001b[0m\u001b[0;34m\u001b[0m\u001b[0;34m\u001b[0m\u001b[0m\n",
      "\u001b[0;31mKeyboardInterrupt\u001b[0m: "
     ]
    }
   ],
   "source": [
    "## the following is learned from/taken from/inspired by:\n",
    "## https://www.youtube.com/watch?v=jhFsFZXZbu4&feature=youtu.be&fbclid=IwAR1j20K5V4K1v1iAtNQCMaogBdCjOpVVktaj7bXELiQR5HnKfc_wpk6vJUk\n",
    "\n",
    "while True:\n",
    "    def updatemo():\n",
    "        scope = ['https://spreadsheets.google.com/feeds','https://www.googleapis.com/auth/drive']\n",
    "        creds = ServiceAccountCredentials.from_json_keyfile_name('My Project 21738-4d265ae50b52.json', scope)\n",
    "        client = gspread.authorize(creds)\n",
    "        sheet = client.open('Stock Market: Dow Jones').sheet1\n",
    "        sheet2 = client.open('Stock Market: Dow Jones').get_worksheet(1)\n",
    "        ListofDict = sheet.get_all_records()\n",
    "        del ListofDict[1::2]\n",
    "        Dictfortickers = {}\n",
    "        for i in range(0,30):\n",
    "            Dictfortickers[ListofDict[i][\"Symbol\"]]= i\n",
    "        \n",
    "    schedule.every(30).seconds.do(updatemo)\n",
    "\n",
    "    while 1: \n",
    "        schedule.run_pending()\n",
    "        time.sleep(1) \n",
    "    \n",
    "    import telebot\n",
    "    import time\n",
    "\n",
    "    myBotToken = \"849789059:AAHGJ_-j5DYZtZl5ZdRkHlHFzondHxAP9QI\"\n",
    "    myBot = telebot.TeleBot(token = myBotToken)\n",
    "\n",
    "# assume this to be the main dict of everything\n",
    "\n",
    "    tickerList = []\n",
    "    for i in Dictfortickers:\n",
    "        tickerList.append(i)# make a list here of the tickers in the json-derived line\n",
    "    tickersString = \"\\n\".join(tickerList) # turn into a string to send\n",
    "\n",
    "    @myBot.message_handler(commands = ['start'])\n",
    "    def welcome(words):\n",
    "        myBot.reply_to(words, \"Welcome to StockMe Bot! To get you started, here are some functions you can type in! \\n\\\n",
    "    Type in: '/tickers' to get a full list of the tickers that are available \\n\\\n",
    "    Type in: '/geninfo' to get general information about a ticker \\nType in: '/help' to get a list of all functions\\n\\\n",
    "    Type in: /login if you have an account and want to login \\n \\\n",
    "    Type in: /signup if you would like to make an account\")\n",
    " \n",
    "    @myBot.message_handler(commands = ['help'])\n",
    "    def helpDesk(words):\n",
    "        myBot.reply_to(words, \"List of functions: \\n\"+ \\\n",
    "    \"Type in: '/start' to restart the bot \\n \" +\\\n",
    "    \"Type in: '/help' for the full list of commands \\n \" +\\\n",
    "    \"Type in: '/tickers' for the list of tickers avaible\\n \" +\\\n",
    "    \"Type in: '/geninfo' for general information about a ticker\\n \" +\\\n",
    "    \"Type in: '/OpenClose' for the Opening Price and Closing Price Yesterday \\n \" +\\\n",
    "    \"Type in: '/HiLoToday' for the High and Low Today \\n\" +\\\n",
    "    \"Type in: '/HiLo52' for the High and Low from a 52-week period \\n\" +\\\n",
    "    \"Type in: '/Change' for the change in percent \\n\" +\\\n",
    "    \"Type in: '/Volume' for the Volume and Volume Average \\n\" +\\\n",
    "    \"Type in: '/PER' for the Price Earning Ratio \\n\" +\\\n",
    "    \"Type in: '/EPS' for the Earnings Per Share \\n\" + \\\n",
    "    \"Type in: '/MarketCap' for the Market Cap \\n\" + \\\n",
    "    \"Type in: '/Shares' for the number of Shares \\n\")\n",
    "\n",
    "    @myBot.message_handler(commands = ['tickers'])\n",
    "    def tickerList(words):\n",
    "        myBot.reply_to(words, tickersString) # display each of the element of the list, use \\n accordingly\n",
    "\n",
    "## the following is taken from:\n",
    "## https://stackoverflow.com/questions/44054143/save-user-input-after-certain-message-telegram-bot\n",
    "\n",
    "    @myBot.message_handler(commands=['geninfo'])\n",
    "    def ask(message):\n",
    "        sent = myBot.send_message(message.chat.id, 'Enter stock ticker. Enter /tickers to view ticker list then enter /geninfo to return.')\n",
    "        myBot.register_next_step_handler(sent, stockInfo)\n",
    "    def stockInfo(message):\n",
    "    # optional: open('entry.txt', 'w').write(str(message.chat.id) + ' | ' + message.text + '||')\n",
    "        myBot.send_message(message.chat.id,\"Symbol: \"+ str(ListofDict[Dictfortickers[message.text]][\"Symbol\"])+\"\\n\" +\\\n",
    "                       \"Name: \" + str(ListofDict[Dictfortickers[message.text]][\"Name\"]) +\"\\n\" +\\\n",
    "                      \"Currency: \" + str(ListofDict[Dictfortickers[message.text]][\"Currency\"]) +\"\\n\" +\\\n",
    "                      \"Price: \" + str(ListofDict[Dictfortickers[message.text]][\"Price\"]) +\"\\n\" +\\\n",
    "                      \"Change: \" + str(ListofDict[Dictfortickers[message.text]][\"Change\"]))\n",
    "        myBot.send_message(message.chat.id,\"Here are more functions for additional info on the company! \\n\" +\\\n",
    "    \"Type in: '/OpenClose' for the Opening Price and Closing Price Yesterday \\n \" +\\\n",
    "    \"Type in: '/HiLoToday' for the High and Low Today \\n\" +\\\n",
    "    \"Type in: '/HiLo52' for the High and Low from a 52-week period \\n\" +\\\n",
    "    \"Type in: '/Change' for the change in percent \\n\" +\\\n",
    "    \"Type in: '/Volume' for the Volume and Volume Average \\n\" +\\\n",
    "    \"Type in: '/PER' for the Price Earning Ratio \\n\" +\\\n",
    "    \"Type in: '/EPS' for the Earnings Per Share \\n\" + \\\n",
    "    \"Type in: '/MarketCap' for the Market Cap \\n\" + \\\n",
    "    \"Type in: '/Shares' for the number of Shares \\n\")\n",
    "\n",
    "#the functions\n",
    "    @myBot.message_handler(commands = ['OpenClose'])\n",
    "    def askop(message):\n",
    "        sent = myBot.send_message(message.chat.id, 'Enter stock ticker. Enter /tickers to view ticker list then enter /OpenClose to return.')\n",
    "        myBot.register_next_step_handler(sent, stockCO)\n",
    "    def stockCO(message):\n",
    "        myBot.send_message(message.chat.id,\"Price Open: \"+ str(ListofDict[Dictfortickers[message.text]][\"Price Open\"]) +\"\\n\" +\\\n",
    "                       \"Close Yesterday: \" + str(ListofDict[Dictfortickers[message.text]][\"Close Yestersay\"]))\n",
    "    \n",
    "    @myBot.message_handler(commands = ['HiLoToday'])\n",
    "    def askhitod(message):\n",
    "        sent = myBot.send_message(message.chat.id, 'Enter stock ticker. Enter /tickers to view ticker list then enter /HiLoToday to return.')\n",
    "        myBot.register_next_step_handler(sent, stockhitod)\n",
    "    def stockhitod(message):\n",
    "        myBot.send_message(message.chat.id,\"High today: \"+ str(ListofDict[Dictfortickers[message.text]][\"High\"]) +\"\\n\" +\\\n",
    "                       \"Low today: \" + str(ListofDict[Dictfortickers[message.text]][\"Low\"]))\n",
    "    \n",
    "    @myBot.message_handler(commands = ['HiLo52'])\n",
    "    def askhit52(message):\n",
    "        sent = myBot.send_message(message.chat.id, 'Enter stock ticker. Enter /tickers to view ticker list then enter /HiLo52 to return.')\n",
    "        myBot.register_next_step_handler(sent, stockhi52)\n",
    "    def stockhi52(message):\n",
    "        myBot.send_message(message.chat.id,\"52-Week High: \"+ str(ListofDict[Dictfortickers[message.text]][\"52-Week High\"]) +\"\\n\" +\\\n",
    "                       \"52-Week Low: \" + str(ListofDict[Dictfortickers[message.text]][\"52-Week Low\"]))\n",
    "\n",
    "    @myBot.message_handler(commands = ['Change'])\n",
    "    def askchange(message):\n",
    "        sent = myBot.send_message(message.chat.id, 'Enter stock ticker. Enter /tickers to view ticker list then enter /Change to return.')\n",
    "        myBot.register_next_step_handler(sent, stockchange)\n",
    "    def stockchange(message):\n",
    "        myBot.send_message(message.chat.id,\"Change: \"+ str(ListofDict[Dictfortickers[message.text]][\"Change\"]) +\"\\n\" +\\\n",
    "                       \"Percent Change: \" + str(ListofDict[Dictfortickers[message.text]][\"Change in Percent\"]))\n",
    "\n",
    "    @myBot.message_handler(commands = ['Volume'])\n",
    "    def askvol(message):\n",
    "        sent = myBot.send_message(message.chat.id, 'Enter stock ticker. Enter /tickers to view ticker list then enter /Volume to return.')\n",
    "        myBot.register_next_step_handler(sent, stockvol)\n",
    "    def stockvol(message):\n",
    "        myBot.send_message(message.chat.id,\"Volume: \"+ str(ListofDict[Dictfortickers[message.text]][\"Volume\"]) +\"\\n\" +\\\n",
    "                       \"Volume Average: \" + str(ListofDict[Dictfortickers[message.text]][\"Volume Average\"]))\n",
    "    \n",
    "    @myBot.message_handler(commands = ['PER'])\n",
    "    def askper(message):\n",
    "        sent = myBot.send_message(message.chat.id, 'Enter stock ticker. Enter /tickers to view ticker list then enter /PER to return.')\n",
    "        myBot.register_next_step_handler(sent, stockper)\n",
    "    def stockper(message):\n",
    "        myBot.send_message(message.chat.id,\"Price-Earning Ratio: \"+ str(ListofDict[Dictfortickers[message.text]][\"Price-Earning Ratio\"]))\n",
    "    \n",
    "    @myBot.message_handler(commands = ['EPS'])\n",
    "    def askeps(message):\n",
    "        sent = myBot.send_message(message.chat.id, 'Enter stock ticker. Enter /tickers to view ticker list then enter /EPS to return.')\n",
    "        myBot.register_next_step_handler(sent, stockeps)\n",
    "    def stockeps(message):\n",
    "        myBot.send_message(message.chat.id,\"Earnings Per Share: \"+ str(ListofDict[Dictfortickers[message.text]][\"Earnings per Share\"]))\n",
    "\n",
    "    @myBot.message_handler(commands = ['MarketCap'])\n",
    "    def askmc(message):\n",
    "        sent = myBot.send_message(message.chat.id, 'Enter stock ticker. Enter /tickers to view ticker list then enter /MarketCap to return.')\n",
    "        myBot.register_next_step_handler(sent, stockmc)\n",
    "    def stockmc(message):\n",
    "        myBot.send_message(message.chat.id,\"Market Cap: \"+ str(ListofDict[Dictfortickers[message.text]][\"Market Cap\"]))\n",
    "\n",
    "    @myBot.message_handler(commands = ['Shares'])\n",
    "    def askshare(message):\n",
    "        sent = myBot.send_message(message.chat.id, 'Enter stock ticker. Enter /tickers to view ticker list then enter /Shares to return.')\n",
    "        myBot.register_next_step_handler(sent, stockshare)\n",
    "    def stockshare(message):\n",
    "        myBot.send_message(message.chat.id,\"Shares: \"+ str(ListofDict[Dictfortickers[message.text]][\"Shares\"]))\n",
    "    \n",
    "## end of citation\n",
    "    \n",
    "    try:\n",
    "        myBot.polling()\n",
    "    except Exception:\n",
    "        time.sleep(10)"
   ]
  },
  {
   "cell_type": "code",
   "execution_count": null,
   "metadata": {},
   "outputs": [],
   "source": [
    "@myBot.message_handler(commands=['info'])\n",
    "def ask(message):\n",
    "    sent = myBot.send_message(message.chat.id, 'Enter stock ticker. Enter /tickers to view ticker list then enter /info to return.')\n",
    "    myBot.register_next_step_handler(sent, stockInfo)\n",
    "def stockInfo(message):\n",
    "    # optional: open('entry.txt', 'w').write(str(message.chat.id) + ' | ' + message.text + '||')\n",
    "    myBot.send_message(message.chat.id,ListofDict[Dictfortickers[message.text]])"
   ]
  },
  {
   "cell_type": "code",
   "execution_count": 8,
   "metadata": {},
   "outputs": [
    {
     "name": "stdout",
     "output_type": "stream",
     "text": [
      "ITM \n",
      "ITM2\n"
     ]
    }
   ],
   "source": [
    "print(\"ITM \\nITM2\")"
   ]
  },
  {
   "cell_type": "code",
   "execution_count": 3,
   "metadata": {},
   "outputs": [
    {
     "data": {
      "text/plain": [
       "'word1word2word3'"
      ]
     },
     "execution_count": 3,
     "metadata": {},
     "output_type": "execute_result"
    }
   ],
   "source": [
    "commandList = [1,2,3]\n",
    "\n",
    "for i in commandList:\n",
    "    def function(i):\n",
    "        return \"word\" + str(i)\n",
    "    \n",
    "function(1) + function(2) + function(3)"
   ]
  },
  {
   "cell_type": "code",
   "execution_count": null,
   "metadata": {},
   "outputs": [],
   "source": [
    "import telebot\n",
    "from telebot import types\n",
    "\n",
    "bot = telebot.TeleBot(\"849789059:AAHGJ_-j5DYZtZl5ZdRkHlHFzondHxAP9QI\")\n",
    "\n",
    "@bot.message_handler(commands=['start'])\n",
    "def start(message):\n",
    "  sent = bot.send_message(message.chat.id, 'Please describe your problem.')\n",
    "  bot.register_next_step_handler(sent, hello)\n",
    "\n",
    "def hello(message):\n",
    "    open('problem.txt', 'w').write(str(message.chat.id) + ' | ' + message.text + '||')\n",
    "    bot.send_message(str(message.chat.id), 'Thank you!')\n",
    "    bot.send_message(message.chat.id,str(message.chat.id) + ' | ' + message.text)\n",
    "\n",
    "bot.polling()"
   ]
  },
  {
   "cell_type": "code",
   "execution_count": 2,
   "metadata": {},
   "outputs": [],
   "source": [
    "mainDict = {\"Bob\":52.5,\"Lisa\":101.5,\"Carl\":10.4}\n",
    "# assume this to be the main dict of everything\n",
    "\n",
    "tickerList = mainDict.keys()\n",
    "# make a list here of the tickers in the json-derived line"
   ]
  },
  {
   "cell_type": "code",
   "execution_count": 7,
   "metadata": {},
   "outputs": [
    {
     "name": "stdout",
     "output_type": "stream",
     "text": [
      "Bob\n",
      "Lisa\n",
      "Carl\n"
     ]
    }
   ],
   "source": [
    "print(\"\\n\".join(tickerList))"
   ]
  },
  {
   "cell_type": "code",
   "execution_count": null,
   "metadata": {},
   "outputs": [],
   "source": []
  }
 ],
 "metadata": {
  "kernelspec": {
   "display_name": "Python 3",
   "language": "python",
   "name": "python3"
  },
  "language_info": {
   "codemirror_mode": {
    "name": "ipython",
    "version": 3
   },
   "file_extension": ".py",
   "mimetype": "text/x-python",
   "name": "python",
   "nbconvert_exporter": "python",
   "pygments_lexer": "ipython3",
   "version": "3.7.3"
  }
 },
 "nbformat": 4,
 "nbformat_minor": 2
}
